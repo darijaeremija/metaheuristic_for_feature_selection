{
 "cells": [
  {
   "cell_type": "code",
   "execution_count": 3,
   "id": "63704e29-2e2f-445a-a57a-9b8e81993871",
   "metadata": {},
   "outputs": [
    {
     "name": "stderr",
     "output_type": "stream",
     "text": [
      "/home/darija/.local/lib/python3.10/site-packages/matplotlib/projections/__init__.py:63: UserWarning: Unable to import Axes3D. This may be due to multiple versions of Matplotlib being installed (e.g. as a system package and as a pip package). As a result, the 3D projection is not available.\n",
      "  warnings.warn(\"Unable to import Axes3D. This may be due to multiple versions of \"\n"
     ]
    }
   ],
   "source": [
    "import pandas as pd\n",
    "from matplotlib import pyplot as plt\n",
    "import openml"
   ]
  },
  {
   "cell_type": "code",
   "execution_count": 4,
   "id": "7a4d5ffe-37a2-49a9-b95d-c5686c29776e",
   "metadata": {},
   "outputs": [],
   "source": [
    "def read_data():\n",
    "    dataset = openml.datasets.get_dataset(dataset_id=1104,download_data=False )\n",
    "    data = dataset.get_data(dataset_format='dataframe', target=dataset.default_target_attribute)\n",
    "    X, y = data[0], data[1]\n",
    "    y = y.map({'ALL':0,'AML':1})\n",
    "    return X,pd.DataFrame(y)"
   ]
  },
  {
   "cell_type": "code",
   "execution_count": 5,
   "id": "a779a465-b154-407a-8921-0e878f877139",
   "metadata": {},
   "outputs": [],
   "source": [
    "X,y = read_data()"
   ]
  },
  {
   "cell_type": "code",
   "execution_count": 6,
   "id": "a050de8b-4cef-41f5-994b-253bbc2aaa1e",
   "metadata": {},
   "outputs": [
    {
     "data": {
      "text/plain": [
       "CLASS\n",
       "0        47\n",
       "1        25\n",
       "Name: count, dtype: int64"
      ]
     },
     "execution_count": 6,
     "metadata": {},
     "output_type": "execute_result"
    }
   ],
   "source": [
    "y.value_counts()"
   ]
  },
  {
   "cell_type": "code",
   "execution_count": 7,
   "id": "fb144be4-e1d6-4586-a505-cb38a3f3d666",
   "metadata": {},
   "outputs": [],
   "source": [
    "#X.describe()"
   ]
  },
  {
   "cell_type": "code",
   "execution_count": 8,
   "id": "5ad7f25e-d4b3-43fe-9ddf-ababc458c210",
   "metadata": {},
   "outputs": [
    {
     "data": {
      "image/png": "[encoded data removed]",
      "text/plain": [
       "<Figure size 640x480 with 1 Axes>"
      ]
     },
     "metadata": {},
     "output_type": "display_data"
    }
   ],
   "source": [
    "counts = y.value_counts()\n",
    "plt.bar(['ALL','AML'],counts)\n",
    "plt.title('Class distribution')\n",
    "plt.xlabel(\"target class\")\n",
    "plt.show()"
   ]
  },
  {
   "cell_type": "code",
   "execution_count": 9,
   "id": "91a7a344-f2bf-4086-a9c4-f63c5e83912e",
   "metadata": {},
   "outputs": [],
   "source": [
    "X = X.dropna()"
   ]
  },
  {
   "cell_type": "code",
   "execution_count": 10,
   "id": "a1a8c609-91d0-47dd-b590-d40f60489bf6",
   "metadata": {},
   "outputs": [],
   "source": [
    "from sklearn.model_selection import train_test_split"
   ]
  },
  {
   "cell_type": "code",
   "execution_count": 11,
   "id": "55cfcfdd-2677-4256-84f4-103946f671a6",
   "metadata": {},
   "outputs": [],
   "source": [
    "X_train,X_test,y_train,y_test = train_test_split(X,y,stratify=y,test_size=0.2)\n",
    "X_train,X_validation,y_train,y_validation = train_test_split(X_train,y_train,test_size = 0.2,stratify = y_train)"
   ]
  },
  {
   "cell_type": "code",
   "execution_count": 12,
   "id": "d95df62b-cbd7-4682-9e41-2376db84740c",
   "metadata": {},
   "outputs": [],
   "source": [
    "from sklearn.preprocessing import StandardScaler"
   ]
  },
  {
   "cell_type": "code",
   "execution_count": 13,
   "id": "abf33ffd-48a9-48ad-afac-fa10ddcd590c",
   "metadata": {},
   "outputs": [],
   "source": [
    "scaler = StandardScaler().fit(X_train)\n",
    "X_train = scaler.transform(X_train)\n",
    "X_validation = scaler.transform(X_validation)\n",
    "X_test = scaler.transform(X_test)"
   ]
  },
  {
   "cell_type": "code",
   "execution_count": 14,
   "id": "cef832fc-f1b5-440d-954b-66999c44c9b2",
   "metadata": {},
   "outputs": [],
   "source": [
    "X_train = pd.DataFrame(X_train,columns=X.columns)\n",
    "X_validation = pd.DataFrame(X_validation,columns=X.columns)\n",
    "X_test = pd.DataFrame(X_test,columns=X.columns)"
   ]
  },
  {
   "cell_type": "code",
   "execution_count": 15,
   "id": "d1a011ea-d855-446b-8d4e-025d6e53c443",
   "metadata": {},
   "outputs": [],
   "source": [
    "X_train.to_csv(\"data/X_train.csv\", index=False)\n",
    "X_validation.to_csv(\"data/X_validation.csv\", index=False)\n",
    "X_test.to_csv(\"data/X_test.csv\", index=False)\n",
    "\n",
    "y_train.to_csv(\"data/y_train.csv\", index=False)\n",
    "y_validation.to_csv(\"data/y_validation.csv\",index = False)\n",
    "y_test.to_csv(\"data/y_test.csv\", index=False)"
   ]
  },
  {
   "cell_type": "code",
   "execution_count": null,
   "id": "975e7b56-8eb6-4f11-a45d-d5ed485291cd",
   "metadata": {},
   "outputs": [],
   "source": []
  }
 ],
 "metadata": {
  "kernelspec": {
   "display_name": "Python 3 (ipykernel)",
   "language": "python",
   "name": "python3"
  },
  "language_info": {
   "codemirror_mode": {
    "name": "ipython",
    "version": 3
   },
   "file_extension": ".py",
   "mimetype": "text/x-python",
   "name": "python",
   "nbconvert_exporter": "python",
   "pygments_lexer": "ipython3",
   "version": "3.10.12"
  }
 },
 "nbformat": 4,
 "nbformat_minor": 5
}
