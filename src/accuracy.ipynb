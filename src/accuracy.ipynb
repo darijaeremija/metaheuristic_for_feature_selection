{
 "cells": [
  {
   "cell_type": "code",
   "execution_count": 1,
   "id": "332913d2-278a-41e9-bb2d-10f03392cb5f",
   "metadata": {},
   "outputs": [],
   "source": [
    "import torch\n",
    "import torch.nn as nn\n",
    "import torch.nn.functional as F\n",
    "\n",
    "class NN(nn.Module):\n",
    "    def __init__(self, input_dim, hidden_dim=32, output_dim=1):\n",
    "        super().__init__()\n",
    "        self.layer1 = nn.Linear(input_dim, hidden_dim)\n",
    "        self.layer2 = nn.Linear(hidden_dim, hidden_dim)\n",
    "        self.layer3 = nn.Linear(hidden_dim, output_dim)\n",
    "        \n",
    "    def forward(self, x):\n",
    "        x = F.relu(self.layer1(x))\n",
    "        x = F.relu(self.layer2(x))\n",
    "        x = self.layer3(x)\n",
    "        return x"
   ]
  },
  {
   "cell_type": "code",
   "execution_count": 2,
   "id": "58797a88-bcf5-402c-9a78-543d40d29dfb",
   "metadata": {},
   "outputs": [],
   "source": [
    "import numpy as np\n",
    "from torch.utils.data import TensorDataset, DataLoader\n",
    "\n",
    "def calc_accuracy(code,X_train, y_train, X_val, y_val, device=None, hidden_dim=32, batch_size=16, max_epochs=5, lr=0.01):\n",
    "\n",
    "    if device is None:\n",
    "        device = torch.device('cuda' if torch.cuda.is_available() else 'cpu')\n",
    "\n",
    "    selected_features = X_train.columns[code]\n",
    "    if len(selected_features) == 0: #ovo bolje u ga\n",
    "        return -float('inf')\n",
    "\n",
    "    X_tr = torch.tensor(X_train[selected_features].to_numpy(),dtype = torch.float32)\n",
    "    y_tr = torch.tensor(y_train.to_numpy(),dtype = torch.float32)\n",
    "    \n",
    "    X_va = torch.tensor(X_val[selected_features].to_numpy(),dtype = torch.float32)\n",
    "    y_va = torch.tensor(y_val.to_numpy(),dtype = torch.float32)\n",
    "    \n",
    "    \n",
    "    train_dataset = TensorDataset(X_tr, y_tr)\n",
    "    val_dataset   = TensorDataset(X_va, y_va)\n",
    "    train_loader = DataLoader(train_dataset, batch_size=batch_size, shuffle=True)\n",
    "    val_loader   = DataLoader(val_dataset,   batch_size=batch_size*2, shuffle=False)\n",
    "\n",
    "    model     = NN(input_dim=len(selected_features), hidden_dim=hidden_dim).to(device)\n",
    "    loss_fn   = nn.BCEWithLogitsLoss()\n",
    "    optimizer = torch.optim.Adam(model.parameters(), lr=lr)\n",
    "\n",
    "    for _ in range(max_epochs):\n",
    "        model.train()\n",
    "        for X, y in train_loader:\n",
    "            X, y = X.to(device), y.to(device)\n",
    "            optimizer.zero_grad()\n",
    "            logits = model(X)\n",
    "            loss   = loss_fn(logits, y)\n",
    "            loss.backward()\n",
    "            optimizer.step()\n",
    "\n",
    "    model.eval()\n",
    "    num_correct, num_samples = 0, 0\n",
    "    with torch.no_grad():\n",
    "        for X, y in val_loader:\n",
    "            X, y = X.to(device), y.to(device)\n",
    "            logits   = model(X)\n",
    "            preds    = (logits > 0)\n",
    "            num_correct += (preds == y).sum().item()\n",
    "            num_samples += y.size(0)\n",
    "            \n",
    "\n",
    "    val_acc = num_correct / num_samples\n",
    "    #print(val_acc)\n",
    "    return val_acc"
   ]
  },
  {
   "cell_type": "code",
   "execution_count": null,
   "id": "b10dae53-7704-41cf-a7b9-b24664536047",
   "metadata": {},
   "outputs": [],
   "source": []
  },
  {
   "cell_type": "code",
   "execution_count": null,
   "id": "44b9e1cc-a3b2-4056-b7e9-70c6fe366b12",
   "metadata": {},
   "outputs": [],
   "source": []
  },
  {
   "cell_type": "code",
   "execution_count": null,
   "id": "177892f1-180e-4b9e-8500-dec4e0d31925",
   "metadata": {},
   "outputs": [],
   "source": []
  }
 ],
 "metadata": {
  "kernelspec": {
   "display_name": "Python 3 (ipykernel)",
   "language": "python",
   "name": "python3"
  },
  "language_info": {
   "codemirror_mode": {
    "name": "ipython",
    "version": 3
   },
   "file_extension": ".py",
   "mimetype": "text/x-python",
   "name": "python",
   "nbconvert_exporter": "python",
   "pygments_lexer": "ipython3",
   "version": "3.10.12"
  }
 },
 "nbformat": 4,
 "nbformat_minor": 5
}
