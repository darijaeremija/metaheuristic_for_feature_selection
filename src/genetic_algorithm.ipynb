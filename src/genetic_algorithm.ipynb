{
 "cells": [
  {
   "cell_type": "code",
   "execution_count": 41,
   "id": "a92a9eef-a0e5-476d-898f-70fd98f62f61",
   "metadata": {},
   "outputs": [],
   "source": [
    "import pandas as pd\n",
    "import random\n",
    "from copy import deepcopy\n",
    "import numpy as np"
   ]
  },
  {
   "cell_type": "code",
   "execution_count": 42,
   "id": "b61a3e47-12c5-4040-b7be-17a8e88ae945",
   "metadata": {},
   "outputs": [],
   "source": [
    "import import_ipynb \n",
    "from accuracy import calc_accuracy"
   ]
  },
  {
   "cell_type": "code",
   "execution_count": 43,
   "id": "97eaa5da-d426-41e7-8431-1af323027bf9",
   "metadata": {},
   "outputs": [],
   "source": [
    "X_train = pd.read_csv('data/X_train.csv')\n",
    "X_validation  = pd.read_csv('data/X_validation.csv')\n",
    "\n",
    "y_train = pd.read_csv('data/y_train.csv')\n",
    "y_validation  = pd.read_csv('data/y_validation.csv')"
   ]
  },
  {
   "cell_type": "code",
   "execution_count": 44,
   "id": "2c416a2e-e560-44b4-97ea-dae1094ed8b1",
   "metadata": {},
   "outputs": [],
   "source": [
    "class Individual:\n",
    "    def __init__(self,code,fitness = -float('inf')):\n",
    "        self.code = code\n",
    "        self.fitness = fitness"
   ]
  },
  {
   "cell_type": "code",
   "execution_count": 45,
   "id": "89e369fb-ae92-4e92-8e12-39295ff59783",
   "metadata": {},
   "outputs": [],
   "source": [
    "class GA:\n",
    "\n",
    "    def __init__(self, X_train :pd.DataFrame, y_train :pd.DataFrame, X_validation :pd.DataFrame, y_validation:pd.DataFrame, population_size:int, \n",
    "                 num_generations:int, tournament_size:int, mutation_probability:float, alpha :float,elitism_size:int, patience: int\n",
    "                ):\n",
    "        self.X_train = X_train\n",
    "        self.y_train = y_train\n",
    "        self.X_validation = X_validation\n",
    "        self.y_validation = y_validation\n",
    "        self.all_column_names = X_train.columns\n",
    "        self.population_size = population_size\n",
    "        self.num_generations = num_generations\n",
    "        self.tournament_size = tournament_size\n",
    "        self.mutation_probability = mutation_probability\n",
    "        self.alpha = alpha\n",
    "        self.elitism_size = elitism_size\n",
    "        self.patience = patience\n",
    "    \n",
    "        self.population = [ Individual(code=(np.random.rand(X_train.shape[1]) < 0.25)) for _ in range(self.population_size) ]\n",
    "        self.best_fitness = -float('inf')\n",
    "        self.best_solution = None\n",
    "        self.history = []\n",
    "        self.no_improve = 0\n",
    "        \n",
    "    def calc_fitness(self,index): \n",
    "        if not any(self.population[index].code):\n",
    "            self.population[index].fitness =  -float('inf')\n",
    "            return\n",
    "        \n",
    "        #new_column_names = [j for i,j in enumerate(self.all_column_names) if self.population[index].code[i]]\n",
    "        acc = calc_accuracy(self.population[index].code,self.X_train,self.y_train,self.X_validation,self.y_validation)\n",
    "        \n",
    "        num_features =  sum(self.population[index].code)\n",
    "        \n",
    "        self.population[index].fitness = self.alpha * acc + (1 - self.alpha) * (1 - num_features / self.X_train.shape[1])   \n",
    "        # a*tacnost + b * (1 - izabrani_atributi / ukupno_atributa )\n",
    "        #ili a * tacnost + (1 - a) ...\n",
    "        #mozda da oduzimam drugi deo\n",
    "        \n",
    "\n",
    "    def crossover(self,parent1,parent2):\n",
    "        breakpoint = random.randrange(1, len(parent1.code))\n",
    "        child1 = Individual(np.concatenate([parent1.code[:breakpoint],parent2.code[breakpoint:]]) )\n",
    "        child2 =  Individual(np.concatenate([parent2.code[:breakpoint],parent1.code[breakpoint:]]) )\n",
    "\n",
    "        return child1,child2\n",
    "\n",
    "    def mutation(self,child):\n",
    "        for i in range(len(child.code)):\n",
    "            if random.random() < self.mutation_probability:\n",
    "                child.code[i] = not child.code[i]\n",
    "        return child\n",
    "        \n",
    "    def tournament_selection(self):\n",
    "        contenders = random.sample(range(len(self.population)), self.tournament_size)\n",
    "        return max(contenders, key=lambda i: self.population[i].fitness)\n",
    "        \n",
    "\n",
    "    def run(self):\n",
    "               \n",
    "        for generation in range(self.num_generations):\n",
    "            \n",
    "            for i in range(self.population_size):\n",
    "                self.calc_fitness(i)\n",
    "\n",
    "            generation_best = max(self.population,key = lambda ind:ind.fitness)\n",
    "            \n",
    "            if generation_best.fitness  > self.best_fitness:\n",
    "                self.best_fitness = generation_best.fitness\n",
    "                self.best_solution = generation_best.code.copy()\n",
    "                self.no_improve = 0\n",
    "            else:\n",
    "                self.no_improve+=1\n",
    "            \n",
    "            if self.no_improve >= self.patience:\n",
    "                print(f\"No improvement for {self.patience} generations\")\n",
    "                break\n",
    "            valid = [ind.fitness for ind in self.population if ind.fitness != -float('inf')]\n",
    "            average_fitness = sum(valid) / len(valid)\n",
    "            #print(average_fitness)\n",
    "            \n",
    "            self.history.append((generation,average_fitness,self.best_fitness,self.best_solution))\n",
    "            new_population = []\n",
    "            sorted_population = sorted(self.population,key = lambda ind:ind.fitness,reverse=True)\n",
    "            \n",
    "            for i in range(self.elitism_size):\n",
    "                new_population.append(deepcopy(sorted_population[i]))\n",
    "            \n",
    "            for i in range(self.elitism_size,self.population_size,2):\n",
    "                parent1 = self.population[self.tournament_selection()]\n",
    "                parent2 = self.population[self.tournament_selection()]\n",
    "                child1, child2 = self.crossover(parent1, parent2)\n",
    "                new_population.append(self.mutation(child1))\n",
    "                if len(new_population) < self.population_size:\n",
    "                    new_population.append(self.mutation(child2))\n",
    "            self.population = new_population #ne treba deepcopy jer se odmah pravi novi new_population\n",
    "\n",
    "    \n",
    "\n",
    "        return self.best_solution, self.best_fitness, self.history\n",
    "    "
   ]
  },
  {
   "cell_type": "code",
   "execution_count": 46,
   "id": "ddbc7fa9-2e5b-4c67-adbf-2d323deefbd2",
   "metadata": {},
   "outputs": [
    {
     "name": "stdout",
     "output_type": "stream",
     "text": [
      "No improvement for 5 generations\n"
     ]
    }
   ],
   "source": [
    "ga = GA(X_train,y_train,X_validation,y_validation , population_size = 20, num_generations = 20, tournament_size=4, mutation_probability = 0.05,alpha = 0.5,elitism_size = 2,patience = 5)\n",
    "selected_features, fitness,history = ga.run()"
   ]
  },
  {
   "cell_type": "code",
   "execution_count": 47,
   "id": "14fd26d0-7228-4cb4-98c1-9bb5332aad1b",
   "metadata": {},
   "outputs": [
    {
     "data": {
      "text/plain": [
       "0.8766306634871651"
      ]
     },
     "execution_count": 47,
     "metadata": {},
     "output_type": "execute_result"
    }
   ],
   "source": [
    "fitness"
   ]
  },
  {
   "cell_type": "code",
   "execution_count": 48,
   "id": "16801a34-832c-462a-a033-0fda7771ebee",
   "metadata": {},
   "outputs": [
    {
     "data": {
      "text/plain": [
       "[(0,\n",
       "  0.8260204797306775,\n",
       "  0.8766306634871651,\n",
       "  array([False, False,  True, ..., False, False, False])),\n",
       " (1,\n",
       "  0.8270669682517419,\n",
       "  0.8766306634871651,\n",
       "  array([False, False,  True, ..., False, False, False])),\n",
       " (2,\n",
       "  0.8187453242624025,\n",
       "  0.8766306634871651,\n",
       "  array([False, False,  True, ..., False, False, False])),\n",
       " (3,\n",
       "  0.8109423949127976,\n",
       "  0.8766306634871651,\n",
       "  array([False, False,  True, ..., False, False, False])),\n",
       " (4,\n",
       "  0.8194446392668443,\n",
       "  0.8766306634871651,\n",
       "  array([False, False,  True, ..., False, False, False]))]"
      ]
     },
     "execution_count": 48,
     "metadata": {},
     "output_type": "execute_result"
    }
   ],
   "source": [
    "ga.history"
   ]
  },
  {
   "cell_type": "code",
   "execution_count": null,
   "id": "1bec5719-53fc-49db-82f0-b07b6e609eeb",
   "metadata": {},
   "outputs": [],
   "source": []
  },
  {
   "cell_type": "code",
   "execution_count": null,
   "id": "90ad0804-3a9b-444c-aecb-2cf695fa583c",
   "metadata": {},
   "outputs": [],
   "source": []
  },
  {
   "cell_type": "code",
   "execution_count": null,
   "id": "f8f4dffa-562b-4a19-9a8f-4c0f1ac86a88",
   "metadata": {},
   "outputs": [],
   "source": []
  },
  {
   "cell_type": "code",
   "execution_count": null,
   "id": "07caae48-4b7a-4b1e-a878-0fe969137439",
   "metadata": {},
   "outputs": [],
   "source": []
  },
  {
   "cell_type": "code",
   "execution_count": null,
   "id": "f38b29f3-7e98-4316-8b93-e6cac13c97c4",
   "metadata": {},
   "outputs": [],
   "source": []
  },
  {
   "cell_type": "code",
   "execution_count": null,
   "id": "0cd6adca-6c7d-434c-af0f-20c94c0b586e",
   "metadata": {},
   "outputs": [],
   "source": []
  },
  {
   "cell_type": "code",
   "execution_count": null,
   "id": "294693c4-d0c2-4d02-b1fd-f1d0b832ef8d",
   "metadata": {},
   "outputs": [],
   "source": []
  },
  {
   "cell_type": "code",
   "execution_count": null,
   "id": "53c22c7f-bd6e-4a8a-85c9-fe3c7a8dcbe8",
   "metadata": {},
   "outputs": [],
   "source": []
  },
  {
   "cell_type": "code",
   "execution_count": null,
   "id": "bf9014c1-c613-4f59-88a3-aa916e75829c",
   "metadata": {},
   "outputs": [],
   "source": []
  }
 ],
 "metadata": {
  "kernelspec": {
   "display_name": "Python 3 (ipykernel)",
   "language": "python",
   "name": "python3"
  },
  "language_info": {
   "codemirror_mode": {
    "name": "ipython",
    "version": 3
   },
   "file_extension": ".py",
   "mimetype": "text/x-python",
   "name": "python",
   "nbconvert_exporter": "python",
   "pygments_lexer": "ipython3",
   "version": "3.10.12"
  }
 },
 "nbformat": 4,
 "nbformat_minor": 5
}
